{
 "cells": [
  {
   "cell_type": "markdown",
   "metadata": {},
   "source": [
    "# Pandas challenges"
   ]
  },
  {
   "cell_type": "markdown",
   "metadata": {},
   "source": [
    "Read the `veahicles.csv` dataframe and store it in a variable called `cars`:"
   ]
  },
  {
   "cell_type": "code",
   "execution_count": 4,
   "metadata": {},
   "outputs": [],
   "source": [
    "import pandas as pd"
   ]
  },
  {
   "cell_type": "code",
   "execution_count": 6,
   "metadata": {},
   "outputs": [
    {
     "name": "stdout",
     "output_type": "stream",
     "text": [
      "C:\\Users\\akbar\\Desktop\\Data_Science\\Data_Driven_Businesses_with_SQL\\Python_exercises\\pandas-platform-files\\data\n"
     ]
    }
   ],
   "source": [
    "cd data"
   ]
  },
  {
   "cell_type": "code",
   "execution_count": 7,
   "metadata": {},
   "outputs": [],
   "source": [
    "cars = pd.read_csv('vehicles.csv')"
   ]
  },
  {
   "cell_type": "markdown",
   "metadata": {},
   "source": [
    "### How many rows and columns are there?"
   ]
  },
  {
   "cell_type": "code",
   "execution_count": 11,
   "metadata": {
    "tags": []
   },
   "outputs": [
    {
     "data": {
      "text/plain": [
       "(35952, 15)"
      ]
     },
     "execution_count": 11,
     "metadata": {},
     "output_type": "execute_result"
    }
   ],
   "source": [
    "cars.shape"
   ]
  },
  {
   "cell_type": "markdown",
   "metadata": {},
   "source": [
    "### What are the data types of the columns?"
   ]
  },
  {
   "cell_type": "code",
   "execution_count": 10,
   "metadata": {},
   "outputs": [
    {
     "name": "stdout",
     "output_type": "stream",
     "text": [
      "<class 'pandas.core.indexes.base.Index'>\n"
     ]
    }
   ],
   "source": [
    "print(type(cars.columns))"
   ]
  },
  {
   "cell_type": "code",
   "execution_count": 40,
   "metadata": {
    "tags": []
   },
   "outputs": [
    {
     "name": "stdout",
     "output_type": "stream",
     "text": [
      "<class 'pandas.core.frame.DataFrame'>\n",
      "RangeIndex: 35952 entries, 0 to 35951\n",
      "Data columns (total 15 columns):\n",
      " #   Column                   Non-Null Count  Dtype  \n",
      "---  ------                   --------------  -----  \n",
      " 0   Make                     35952 non-null  object \n",
      " 1   Model                    35952 non-null  object \n",
      " 2   Year                     35952 non-null  int64  \n",
      " 3   Engine Displacement      35952 non-null  float64\n",
      " 4   Cylinders                35952 non-null  float64\n",
      " 5   Transmission             35952 non-null  object \n",
      " 6   Drivetrain               35952 non-null  object \n",
      " 7   Vehicle Class            35952 non-null  object \n",
      " 8   Fuel Type                35952 non-null  object \n",
      " 9   Fuel Barrels/Year        35952 non-null  float64\n",
      " 10  City MPG                 35952 non-null  int64  \n",
      " 11  Highway MPG              35952 non-null  int64  \n",
      " 12  Combined MPG             35952 non-null  int64  \n",
      " 13  CO2 Emission Grams/Mile  35952 non-null  float64\n",
      " 14  Fuel Cost/Year           35952 non-null  int64  \n",
      "dtypes: float64(4), int64(5), object(6)\n",
      "memory usage: 4.1+ MB\n"
     ]
    }
   ],
   "source": [
    "cars.info()"
   ]
  },
  {
   "cell_type": "markdown",
   "metadata": {},
   "source": [
    "### Are there missing values?"
   ]
  },
  {
   "cell_type": "code",
   "execution_count": 13,
   "metadata": {},
   "outputs": [
    {
     "data": {
      "text/plain": [
       "Make                       0\n",
       "Model                      0\n",
       "Year                       0\n",
       "Engine Displacement        0\n",
       "Cylinders                  0\n",
       "Transmission               0\n",
       "Drivetrain                 0\n",
       "Vehicle Class              0\n",
       "Fuel Type                  0\n",
       "Fuel Barrels/Year          0\n",
       "City MPG                   0\n",
       "Highway MPG                0\n",
       "Combined MPG               0\n",
       "CO2 Emission Grams/Mile    0\n",
       "Fuel Cost/Year             0\n",
       "dtype: int64"
      ]
     },
     "execution_count": 13,
     "metadata": {},
     "output_type": "execute_result"
    }
   ],
   "source": [
    "cars.isnull().sum()"
   ]
  },
  {
   "cell_type": "markdown",
   "metadata": {},
   "source": [
    "### What are the ranges / distributions of the numerical columns?"
   ]
  },
  {
   "cell_type": "code",
   "execution_count": 17,
   "metadata": {},
   "outputs": [
    {
     "data": {
      "text/html": [
       "<div>\n",
       "<style scoped>\n",
       "    .dataframe tbody tr th:only-of-type {\n",
       "        vertical-align: middle;\n",
       "    }\n",
       "\n",
       "    .dataframe tbody tr th {\n",
       "        vertical-align: top;\n",
       "    }\n",
       "\n",
       "    .dataframe thead th {\n",
       "        text-align: right;\n",
       "    }\n",
       "</style>\n",
       "<table border=\"1\" class=\"dataframe\">\n",
       "  <thead>\n",
       "    <tr style=\"text-align: right;\">\n",
       "      <th></th>\n",
       "      <th>Year</th>\n",
       "      <th>Engine Displacement</th>\n",
       "      <th>Cylinders</th>\n",
       "      <th>Fuel Barrels/Year</th>\n",
       "      <th>City MPG</th>\n",
       "      <th>Highway MPG</th>\n",
       "      <th>Combined MPG</th>\n",
       "      <th>CO2 Emission Grams/Mile</th>\n",
       "      <th>Fuel Cost/Year</th>\n",
       "    </tr>\n",
       "  </thead>\n",
       "  <tbody>\n",
       "    <tr>\n",
       "      <th>count</th>\n",
       "      <td>35952.00000</td>\n",
       "      <td>35952.000000</td>\n",
       "      <td>35952.000000</td>\n",
       "      <td>35952.000000</td>\n",
       "      <td>35952.000000</td>\n",
       "      <td>35952.000000</td>\n",
       "      <td>35952.000000</td>\n",
       "      <td>35952.000000</td>\n",
       "      <td>35952.000000</td>\n",
       "    </tr>\n",
       "    <tr>\n",
       "      <th>mean</th>\n",
       "      <td>2000.71640</td>\n",
       "      <td>3.338493</td>\n",
       "      <td>5.765076</td>\n",
       "      <td>17.609056</td>\n",
       "      <td>17.646139</td>\n",
       "      <td>23.880646</td>\n",
       "      <td>19.929322</td>\n",
       "      <td>475.316339</td>\n",
       "      <td>1892.598465</td>\n",
       "    </tr>\n",
       "    <tr>\n",
       "      <th>std</th>\n",
       "      <td>10.08529</td>\n",
       "      <td>1.359395</td>\n",
       "      <td>1.755268</td>\n",
       "      <td>4.467283</td>\n",
       "      <td>4.769349</td>\n",
       "      <td>5.890876</td>\n",
       "      <td>5.112409</td>\n",
       "      <td>119.060773</td>\n",
       "      <td>506.958627</td>\n",
       "    </tr>\n",
       "    <tr>\n",
       "      <th>min</th>\n",
       "      <td>1984.00000</td>\n",
       "      <td>0.600000</td>\n",
       "      <td>2.000000</td>\n",
       "      <td>0.060000</td>\n",
       "      <td>6.000000</td>\n",
       "      <td>9.000000</td>\n",
       "      <td>7.000000</td>\n",
       "      <td>37.000000</td>\n",
       "      <td>600.000000</td>\n",
       "    </tr>\n",
       "    <tr>\n",
       "      <th>25%</th>\n",
       "      <td>1991.00000</td>\n",
       "      <td>2.200000</td>\n",
       "      <td>4.000000</td>\n",
       "      <td>14.699423</td>\n",
       "      <td>15.000000</td>\n",
       "      <td>20.000000</td>\n",
       "      <td>16.000000</td>\n",
       "      <td>395.000000</td>\n",
       "      <td>1500.000000</td>\n",
       "    </tr>\n",
       "    <tr>\n",
       "      <th>50%</th>\n",
       "      <td>2001.00000</td>\n",
       "      <td>3.000000</td>\n",
       "      <td>6.000000</td>\n",
       "      <td>17.347895</td>\n",
       "      <td>17.000000</td>\n",
       "      <td>24.000000</td>\n",
       "      <td>19.000000</td>\n",
       "      <td>467.736842</td>\n",
       "      <td>1850.000000</td>\n",
       "    </tr>\n",
       "    <tr>\n",
       "      <th>75%</th>\n",
       "      <td>2010.00000</td>\n",
       "      <td>4.300000</td>\n",
       "      <td>6.000000</td>\n",
       "      <td>20.600625</td>\n",
       "      <td>20.000000</td>\n",
       "      <td>27.000000</td>\n",
       "      <td>23.000000</td>\n",
       "      <td>555.437500</td>\n",
       "      <td>2200.000000</td>\n",
       "    </tr>\n",
       "    <tr>\n",
       "      <th>max</th>\n",
       "      <td>2017.00000</td>\n",
       "      <td>8.400000</td>\n",
       "      <td>16.000000</td>\n",
       "      <td>47.087143</td>\n",
       "      <td>58.000000</td>\n",
       "      <td>61.000000</td>\n",
       "      <td>56.000000</td>\n",
       "      <td>1269.571429</td>\n",
       "      <td>5800.000000</td>\n",
       "    </tr>\n",
       "  </tbody>\n",
       "</table>\n",
       "</div>"
      ],
      "text/plain": [
       "              Year  Engine Displacement     Cylinders  Fuel Barrels/Year  \\\n",
       "count  35952.00000         35952.000000  35952.000000       35952.000000   \n",
       "mean    2000.71640             3.338493      5.765076          17.609056   \n",
       "std       10.08529             1.359395      1.755268           4.467283   \n",
       "min     1984.00000             0.600000      2.000000           0.060000   \n",
       "25%     1991.00000             2.200000      4.000000          14.699423   \n",
       "50%     2001.00000             3.000000      6.000000          17.347895   \n",
       "75%     2010.00000             4.300000      6.000000          20.600625   \n",
       "max     2017.00000             8.400000     16.000000          47.087143   \n",
       "\n",
       "           City MPG   Highway MPG  Combined MPG  CO2 Emission Grams/Mile  \\\n",
       "count  35952.000000  35952.000000  35952.000000             35952.000000   \n",
       "mean      17.646139     23.880646     19.929322               475.316339   \n",
       "std        4.769349      5.890876      5.112409               119.060773   \n",
       "min        6.000000      9.000000      7.000000                37.000000   \n",
       "25%       15.000000     20.000000     16.000000               395.000000   \n",
       "50%       17.000000     24.000000     19.000000               467.736842   \n",
       "75%       20.000000     27.000000     23.000000               555.437500   \n",
       "max       58.000000     61.000000     56.000000              1269.571429   \n",
       "\n",
       "       Fuel Cost/Year  \n",
       "count    35952.000000  \n",
       "mean      1892.598465  \n",
       "std        506.958627  \n",
       "min        600.000000  \n",
       "25%       1500.000000  \n",
       "50%       1850.000000  \n",
       "75%       2200.000000  \n",
       "max       5800.000000  "
      ]
     },
     "execution_count": 17,
     "metadata": {},
     "output_type": "execute_result"
    }
   ],
   "source": [
    "cars.describe()"
   ]
  },
  {
   "cell_type": "code",
   "execution_count": 19,
   "metadata": {
    "tags": []
   },
   "outputs": [
    {
     "data": {
      "text/plain": [
       "array([[<AxesSubplot:title={'center':'Year'}>,\n",
       "        <AxesSubplot:title={'center':'Engine Displacement'}>,\n",
       "        <AxesSubplot:title={'center':'Cylinders'}>],\n",
       "       [<AxesSubplot:title={'center':'Fuel Barrels/Year'}>,\n",
       "        <AxesSubplot:title={'center':'City MPG'}>,\n",
       "        <AxesSubplot:title={'center':'Highway MPG'}>],\n",
       "       [<AxesSubplot:title={'center':'Combined MPG'}>,\n",
       "        <AxesSubplot:title={'center':'CO2 Emission Grams/Mile'}>,\n",
       "        <AxesSubplot:title={'center':'Fuel Cost/Year'}>]], dtype=object)"
      ]
     },
     "execution_count": 19,
     "metadata": {},
     "output_type": "execute_result"
    },
    {
     "data": {
      "image/png": "[encoded data removed]",
      "text/plain": [
       "<Figure size 1440x1296 with 9 Axes>"
      ]
     },
     "metadata": {
      "needs_background": "light"
     },
     "output_type": "display_data"
    }
   ],
   "source": [
    "cars.hist(figsize=(20, 18))"
   ]
  },
  {
   "cell_type": "markdown",
   "metadata": {},
   "source": [
    "### What are the value counts for the categorical columns?"
   ]
  },
  {
   "cell_type": "code",
   "execution_count": 27,
   "metadata": {},
   "outputs": [
    {
     "data": {
      "text/plain": [
       "<AxesSubplot:>"
      ]
     },
     "execution_count": 27,
     "metadata": {},
     "output_type": "execute_result"
    },
    {
     "data": {
      "image/png": "[encoded data removed]",
      "text/plain": [
       "<Figure size 432x288 with 1 Axes>"
      ]
     },
     "metadata": {
      "needs_background": "light"
     },
     "output_type": "display_data"
    }
   ],
   "source": [
    "cars[\"Fuel Type\"].value_counts().plot.bar()"
   ]
  },
  {
   "cell_type": "markdown",
   "metadata": {},
   "source": [
    "### Drop the column \"Combined MPG\""
   ]
  },
  {
   "cell_type": "code",
   "execution_count": 31,
   "metadata": {},
   "outputs": [],
   "source": [
    "cars.drop(columns='Combined MPG', axis=1, inplace=True)"
   ]
  },
  {
   "cell_type": "markdown",
   "metadata": {},
   "source": [
    "### Change column names so that there are no names with spaces or weird special characters:"
   ]
  },
  {
   "cell_type": "code",
   "execution_count": 32,
   "metadata": {},
   "outputs": [
    {
     "data": {
      "text/plain": [
       "Index(['Make', 'Model', 'Year', 'Engine Displacement', 'Cylinders',\n",
       "       'Transmission', 'Drivetrain', 'Vehicle Class', 'Fuel Type',\n",
       "       'Fuel Barrels/Year', 'City MPG', 'Highway MPG',\n",
       "       'CO2 Emission Grams/Mile', 'Fuel Cost/Year'],\n",
       "      dtype='object')"
      ]
     },
     "execution_count": 32,
     "metadata": {},
     "output_type": "execute_result"
    }
   ],
   "source": [
    "cars.columns"
   ]
  },
  {
   "cell_type": "code",
   "execution_count": 33,
   "metadata": {},
   "outputs": [],
   "source": [
    "col_names = [\"Brand\", \"Model\", \"Year\", \"Engine_cc\", \"Cyl\", \"Trans\", \n",
    "             \"Drivetrain\", \"Class\", \"Fuel_type\", \"Barrels_per_year\", \n",
    "             \"City_MPG\", \"Highway_MPG\", \"CO2_grams_per_mile\", \"Fuel_cost_per_year\"]"
   ]
  },
  {
   "cell_type": "code",
   "execution_count": 34,
   "metadata": {},
   "outputs": [],
   "source": [
    "cars.columns = col_names"
   ]
  },
  {
   "cell_type": "code",
   "execution_count": 37,
   "metadata": {},
   "outputs": [
    {
     "data": {
      "text/plain": [
       "['Brand',\n",
       " 'Model',\n",
       " 'Year',\n",
       " 'Engine_cc',\n",
       " 'Cyl',\n",
       " 'Trans',\n",
       " 'Drivetrain',\n",
       " 'Class',\n",
       " 'Fuel_type',\n",
       " 'Barrels_per_year',\n",
       " 'City_MPG',\n",
       " 'Highway_MPG',\n",
       " 'CO2_grams_per_mile',\n",
       " 'Fuel_cost_per_year']"
      ]
     },
     "execution_count": 37,
     "metadata": {},
     "output_type": "execute_result"
    }
   ],
   "source": [
    "col_names"
   ]
  },
  {
   "cell_type": "markdown",
   "metadata": {},
   "source": [
    "### What brand has the most cars?"
   ]
  },
  {
   "cell_type": "markdown",
   "metadata": {},
   "source": [
    "#### Option 1"
   ]
  },
  {
   "cell_type": "code",
   "execution_count": 42,
   "metadata": {
    "tags": []
   },
   "outputs": [
    {
     "data": {
      "text/plain": [
       "Chevrolet    3643\n",
       "Ford         2946\n",
       "Dodge        2360\n",
       "GMC          2347\n",
       "Toyota       1836\n",
       "Name: Brand, dtype: int64"
      ]
     },
     "execution_count": 42,
     "metadata": {},
     "output_type": "execute_result"
    }
   ],
   "source": [
    "cars['Brand'].value_counts().head()"
   ]
  },
  {
   "cell_type": "markdown",
   "metadata": {},
   "source": [
    "#### Option 2 "
   ]
  },
  {
   "cell_type": "code",
   "execution_count": 43,
   "metadata": {},
   "outputs": [
    {
     "data": {
      "text/plain": [
       "Brand\n",
       "Chevrolet                             3643\n",
       "Ford                                  2946\n",
       "Dodge                                 2360\n",
       "GMC                                   2347\n",
       "Toyota                                1836\n",
       "                                      ... \n",
       "Excalibur Autos                          1\n",
       "S and S Coach Company  E.p. Dutton       1\n",
       "Environmental Rsch and Devp Corp         1\n",
       "E. P. Dutton, Inc.                       1\n",
       "Lambda Control Systems                   1\n",
       "Name: Brand, Length: 127, dtype: int64"
      ]
     },
     "execution_count": 43,
     "metadata": {},
     "output_type": "execute_result"
    }
   ],
   "source": [
    "cars.groupby('Brand')['Brand'].count().sort_values(ascending=False)"
   ]
  },
  {
   "cell_type": "markdown",
   "metadata": {},
   "source": [
    "### What brand has the worse CO2 Emissions on average?"
   ]
  },
  {
   "cell_type": "code",
   "execution_count": 52,
   "metadata": {},
   "outputs": [
    {
     "data": {
      "text/plain": [
       "Brand\n",
       "Fisker                                 169.000000\n",
       "smart                                  247.030556\n",
       "Fiat                                   304.666560\n",
       "Daihatsu                               310.188060\n",
       "MINI                                   313.716862\n",
       "                                         ...     \n",
       "Laforza Automobile Inc                 807.909091\n",
       "Bugatti                                873.062500\n",
       "Superior Coaches Div E.p. Dutton       888.700000\n",
       "S and S Coach Company  E.p. Dutton     888.700000\n",
       "Vector                                1049.159722\n",
       "Name: CO2_grams_per_mile, Length: 127, dtype: float64"
      ]
     },
     "execution_count": 52,
     "metadata": {},
     "output_type": "execute_result"
    }
   ],
   "source": [
    "cars.groupby(\"Brand\")['CO2_grams_per_mile'].mean().sort_values()"
   ]
  },
  {
   "cell_type": "markdown",
   "metadata": {},
   "source": [
    "### Which brands are more environment friendly?"
   ]
  },
  {
   "cell_type": "code",
   "execution_count": 152,
   "metadata": {},
   "outputs": [
    {
     "data": {
      "text/plain": [
       "Brand\n",
       "BMW          37.0\n",
       "Chevrolet    51.0\n",
       "Cadillac     91.0\n",
       "Name: CO2_Emission_Grams_Mile, dtype: float64"
      ]
     },
     "execution_count": 152,
     "metadata": {},
     "output_type": "execute_result"
    }
   ],
   "source": [
    "cars.groupby(\"Brand\")['CO2_Emission_Grams_Mile'].min().sort_values().head(3)"
   ]
  },
  {
   "cell_type": "markdown",
   "metadata": {},
   "source": [
    "### Create 4 groups (bins) of cars, by Year. We want to explore how cars have evolved decade by decade."
   ]
  },
  {
   "cell_type": "code",
   "execution_count": 53,
   "metadata": {},
   "outputs": [
    {
     "data": {
      "text/plain": [
       "Index(['Brand', 'Model', 'Year', 'Engine_cc', 'Cyl', 'Trans', 'Drivetrain',\n",
       "       'Class', 'Fuel_type', 'Barrels_per_year', 'City_MPG', 'Highway_MPG',\n",
       "       'CO2_grams_per_mile', 'Fuel_cost_per_year'],\n",
       "      dtype='object')"
      ]
     },
     "execution_count": 53,
     "metadata": {},
     "output_type": "execute_result"
    }
   ],
   "source": [
    "cars.columns"
   ]
  },
  {
   "cell_type": "code",
   "execution_count": 58,
   "metadata": {
    "tags": []
   },
   "outputs": [
    {
     "data": {
      "text/html": [
       "<div>\n",
       "<style scoped>\n",
       "    .dataframe tbody tr th:only-of-type {\n",
       "        vertical-align: middle;\n",
       "    }\n",
       "\n",
       "    .dataframe tbody tr th {\n",
       "        vertical-align: top;\n",
       "    }\n",
       "\n",
       "    .dataframe thead th {\n",
       "        text-align: right;\n",
       "    }\n",
       "</style>\n",
       "<table border=\"1\" class=\"dataframe\">\n",
       "  <thead>\n",
       "    <tr style=\"text-align: right;\">\n",
       "      <th></th>\n",
       "      <th>Brand</th>\n",
       "      <th>Model</th>\n",
       "      <th>Year</th>\n",
       "      <th>Engine_cc</th>\n",
       "      <th>Cyl</th>\n",
       "      <th>Trans</th>\n",
       "      <th>Drivetrain</th>\n",
       "      <th>Class</th>\n",
       "      <th>Fuel_type</th>\n",
       "      <th>Barrels_per_year</th>\n",
       "      <th>City_MPG</th>\n",
       "      <th>Highway_MPG</th>\n",
       "      <th>CO2_grams_per_mile</th>\n",
       "      <th>Fuel_cost_per_year</th>\n",
       "      <th>years_range</th>\n",
       "      <th>year_range</th>\n",
       "    </tr>\n",
       "  </thead>\n",
       "  <tbody>\n",
       "    <tr>\n",
       "      <th>23023</th>\n",
       "      <td>Mazda</td>\n",
       "      <td>MX-5 Miata</td>\n",
       "      <td>2005</td>\n",
       "      <td>1.8</td>\n",
       "      <td>4.0</td>\n",
       "      <td>Manual 6-spd</td>\n",
       "      <td>Rear-Wheel Drive</td>\n",
       "      <td>Two Seaters</td>\n",
       "      <td>Premium</td>\n",
       "      <td>16.480500</td>\n",
       "      <td>18</td>\n",
       "      <td>24</td>\n",
       "      <td>444.350000</td>\n",
       "      <td>2000</td>\n",
       "      <td>00s</td>\n",
       "      <td>00s</td>\n",
       "    </tr>\n",
       "    <tr>\n",
       "      <th>8339</th>\n",
       "      <td>Chrysler</td>\n",
       "      <td>Pacifica</td>\n",
       "      <td>2017</td>\n",
       "      <td>3.6</td>\n",
       "      <td>6.0</td>\n",
       "      <td>Automatic 9-spd</td>\n",
       "      <td>Front-Wheel Drive</td>\n",
       "      <td>Minivan - 2WD</td>\n",
       "      <td>Regular</td>\n",
       "      <td>14.982273</td>\n",
       "      <td>18</td>\n",
       "      <td>28</td>\n",
       "      <td>416.000000</td>\n",
       "      <td>1500</td>\n",
       "      <td>10s</td>\n",
       "      <td>10s</td>\n",
       "    </tr>\n",
       "    <tr>\n",
       "      <th>23643</th>\n",
       "      <td>Mercedes-Benz</td>\n",
       "      <td>C63 AMG</td>\n",
       "      <td>2011</td>\n",
       "      <td>6.2</td>\n",
       "      <td>8.0</td>\n",
       "      <td>Automatic 7-spd</td>\n",
       "      <td>Rear-Wheel Drive</td>\n",
       "      <td>Compact Cars</td>\n",
       "      <td>Premium</td>\n",
       "      <td>21.974000</td>\n",
       "      <td>13</td>\n",
       "      <td>19</td>\n",
       "      <td>592.466667</td>\n",
       "      <td>2700</td>\n",
       "      <td>10s</td>\n",
       "      <td>10s</td>\n",
       "    </tr>\n",
       "    <tr>\n",
       "      <th>21272</th>\n",
       "      <td>Lexus</td>\n",
       "      <td>IS 250 C</td>\n",
       "      <td>2015</td>\n",
       "      <td>2.5</td>\n",
       "      <td>6.0</td>\n",
       "      <td>Automatic (S6)</td>\n",
       "      <td>Rear-Wheel Drive</td>\n",
       "      <td>Subcompact Cars</td>\n",
       "      <td>Premium</td>\n",
       "      <td>13.733750</td>\n",
       "      <td>21</td>\n",
       "      <td>30</td>\n",
       "      <td>359.000000</td>\n",
       "      <td>1700</td>\n",
       "      <td>10s</td>\n",
       "      <td>10s</td>\n",
       "    </tr>\n",
       "    <tr>\n",
       "      <th>24414</th>\n",
       "      <td>Mercedes-Benz</td>\n",
       "      <td>SL600</td>\n",
       "      <td>1997</td>\n",
       "      <td>6.0</td>\n",
       "      <td>12.0</td>\n",
       "      <td>Automatic 5-spd</td>\n",
       "      <td>Rear-Wheel Drive</td>\n",
       "      <td>Two Seaters</td>\n",
       "      <td>Premium</td>\n",
       "      <td>23.543571</td>\n",
       "      <td>12</td>\n",
       "      <td>19</td>\n",
       "      <td>634.785714</td>\n",
       "      <td>2900</td>\n",
       "      <td>90s</td>\n",
       "      <td>90s</td>\n",
       "    </tr>\n",
       "  </tbody>\n",
       "</table>\n",
       "</div>"
      ],
      "text/plain": [
       "               Brand       Model  Year  Engine_cc   Cyl            Trans  \\\n",
       "23023          Mazda  MX-5 Miata  2005        1.8   4.0     Manual 6-spd   \n",
       "8339        Chrysler    Pacifica  2017        3.6   6.0  Automatic 9-spd   \n",
       "23643  Mercedes-Benz     C63 AMG  2011        6.2   8.0  Automatic 7-spd   \n",
       "21272          Lexus    IS 250 C  2015        2.5   6.0   Automatic (S6)   \n",
       "24414  Mercedes-Benz       SL600  1997        6.0  12.0  Automatic 5-spd   \n",
       "\n",
       "              Drivetrain            Class Fuel_type  Barrels_per_year  \\\n",
       "23023   Rear-Wheel Drive      Two Seaters   Premium         16.480500   \n",
       "8339   Front-Wheel Drive    Minivan - 2WD   Regular         14.982273   \n",
       "23643   Rear-Wheel Drive     Compact Cars   Premium         21.974000   \n",
       "21272   Rear-Wheel Drive  Subcompact Cars   Premium         13.733750   \n",
       "24414   Rear-Wheel Drive      Two Seaters   Premium         23.543571   \n",
       "\n",
       "       City_MPG  Highway_MPG  CO2_grams_per_mile  Fuel_cost_per_year  \\\n",
       "23023        18           24          444.350000                2000   \n",
       "8339         18           28          416.000000                1500   \n",
       "23643        13           19          592.466667                2700   \n",
       "21272        21           30          359.000000                1700   \n",
       "24414        12           19          634.785714                2900   \n",
       "\n",
       "      years_range year_range  \n",
       "23023         00s        00s  \n",
       "8339          10s        10s  \n",
       "23643         10s        10s  \n",
       "21272         10s        10s  \n",
       "24414         90s        90s  "
      ]
     },
     "execution_count": 58,
     "metadata": {},
     "output_type": "execute_result"
    }
   ],
   "source": [
    "cars[\"years_range\"] = pd.qcut(cars[\"Year\"],\n",
    "                            q=4, \n",
    "                            labels=[\"80s\", \"90s\", \"00s\", \"10s\"])\n",
    "sample = cars.sample(5)\n",
    "sample"
   ]
  },
  {
   "cell_type": "code",
   "execution_count": 57,
   "metadata": {},
   "outputs": [
    {
     "data": {
      "text/html": [
       "<div>\n",
       "<style scoped>\n",
       "    .dataframe tbody tr th:only-of-type {\n",
       "        vertical-align: middle;\n",
       "    }\n",
       "\n",
       "    .dataframe tbody tr th {\n",
       "        vertical-align: top;\n",
       "    }\n",
       "\n",
       "    .dataframe thead th {\n",
       "        text-align: right;\n",
       "    }\n",
       "</style>\n",
       "<table border=\"1\" class=\"dataframe\">\n",
       "  <thead>\n",
       "    <tr style=\"text-align: right;\">\n",
       "      <th></th>\n",
       "      <th>Brand</th>\n",
       "      <th>Model</th>\n",
       "      <th>Year</th>\n",
       "      <th>Engine_cc</th>\n",
       "      <th>Cyl</th>\n",
       "      <th>Trans</th>\n",
       "      <th>Drivetrain</th>\n",
       "      <th>Class</th>\n",
       "      <th>Fuel_type</th>\n",
       "      <th>Barrels_per_year</th>\n",
       "      <th>City_MPG</th>\n",
       "      <th>Highway_MPG</th>\n",
       "      <th>CO2_grams_per_mile</th>\n",
       "      <th>Fuel_cost_per_year</th>\n",
       "      <th>years_range</th>\n",
       "      <th>year_range</th>\n",
       "    </tr>\n",
       "  </thead>\n",
       "  <tbody>\n",
       "    <tr>\n",
       "      <th>2213</th>\n",
       "      <td>BMW</td>\n",
       "      <td>535i xDrive</td>\n",
       "      <td>2014</td>\n",
       "      <td>3.0</td>\n",
       "      <td>6.0</td>\n",
       "      <td>Automatic (S8)</td>\n",
       "      <td>All-Wheel Drive</td>\n",
       "      <td>Midsize Cars</td>\n",
       "      <td>Premium</td>\n",
       "      <td>14.330870</td>\n",
       "      <td>20</td>\n",
       "      <td>29</td>\n",
       "      <td>382.000000</td>\n",
       "      <td>1750</td>\n",
       "      <td>10s</td>\n",
       "      <td>10s</td>\n",
       "    </tr>\n",
       "    <tr>\n",
       "      <th>2915</th>\n",
       "      <td>BMW</td>\n",
       "      <td>X5 xDrive50i</td>\n",
       "      <td>2015</td>\n",
       "      <td>4.4</td>\n",
       "      <td>8.0</td>\n",
       "      <td>Automatic (S8)</td>\n",
       "      <td>All-Wheel Drive</td>\n",
       "      <td>Standard Sport Utility Vehicle 4WD</td>\n",
       "      <td>Premium</td>\n",
       "      <td>19.388824</td>\n",
       "      <td>15</td>\n",
       "      <td>22</td>\n",
       "      <td>517.000000</td>\n",
       "      <td>2400</td>\n",
       "      <td>10s</td>\n",
       "      <td>10s</td>\n",
       "    </tr>\n",
       "    <tr>\n",
       "      <th>2718</th>\n",
       "      <td>BMW</td>\n",
       "      <td>M4 Coupe</td>\n",
       "      <td>2015</td>\n",
       "      <td>3.0</td>\n",
       "      <td>6.0</td>\n",
       "      <td>Auto(AM-S7)</td>\n",
       "      <td>Rear-Wheel Drive</td>\n",
       "      <td>Compact Cars</td>\n",
       "      <td>Premium</td>\n",
       "      <td>17.347895</td>\n",
       "      <td>17</td>\n",
       "      <td>24</td>\n",
       "      <td>459.000000</td>\n",
       "      <td>2150</td>\n",
       "      <td>10s</td>\n",
       "      <td>10s</td>\n",
       "    </tr>\n",
       "    <tr>\n",
       "      <th>4786</th>\n",
       "      <td>Chevrolet</td>\n",
       "      <td>C2500 Pickup 2WD</td>\n",
       "      <td>1989</td>\n",
       "      <td>5.0</td>\n",
       "      <td>8.0</td>\n",
       "      <td>Automatic 4-spd</td>\n",
       "      <td>Rear-Wheel Drive</td>\n",
       "      <td>Standard Pickup Trucks</td>\n",
       "      <td>Regular</td>\n",
       "      <td>21.974000</td>\n",
       "      <td>14</td>\n",
       "      <td>18</td>\n",
       "      <td>592.466667</td>\n",
       "      <td>2200</td>\n",
       "      <td>80s</td>\n",
       "      <td>80s</td>\n",
       "    </tr>\n",
       "    <tr>\n",
       "      <th>27327</th>\n",
       "      <td>Oldsmobile</td>\n",
       "      <td>Alero</td>\n",
       "      <td>2002</td>\n",
       "      <td>2.2</td>\n",
       "      <td>4.0</td>\n",
       "      <td>Automatic 4-spd</td>\n",
       "      <td>Front-Wheel Drive</td>\n",
       "      <td>Compact Cars</td>\n",
       "      <td>Regular</td>\n",
       "      <td>13.733750</td>\n",
       "      <td>21</td>\n",
       "      <td>30</td>\n",
       "      <td>370.291667</td>\n",
       "      <td>1400</td>\n",
       "      <td>00s</td>\n",
       "      <td>00s</td>\n",
       "    </tr>\n",
       "  </tbody>\n",
       "</table>\n",
       "</div>"
      ],
      "text/plain": [
       "            Brand             Model  Year  Engine_cc  Cyl            Trans  \\\n",
       "2213          BMW       535i xDrive  2014        3.0  6.0   Automatic (S8)   \n",
       "2915          BMW      X5 xDrive50i  2015        4.4  8.0   Automatic (S8)   \n",
       "2718          BMW          M4 Coupe  2015        3.0  6.0      Auto(AM-S7)   \n",
       "4786    Chevrolet  C2500 Pickup 2WD  1989        5.0  8.0  Automatic 4-spd   \n",
       "27327  Oldsmobile             Alero  2002        2.2  4.0  Automatic 4-spd   \n",
       "\n",
       "              Drivetrain                               Class Fuel_type  \\\n",
       "2213     All-Wheel Drive                        Midsize Cars   Premium   \n",
       "2915     All-Wheel Drive  Standard Sport Utility Vehicle 4WD   Premium   \n",
       "2718    Rear-Wheel Drive                        Compact Cars   Premium   \n",
       "4786    Rear-Wheel Drive              Standard Pickup Trucks   Regular   \n",
       "27327  Front-Wheel Drive                        Compact Cars   Regular   \n",
       "\n",
       "       Barrels_per_year  City_MPG  Highway_MPG  CO2_grams_per_mile  \\\n",
       "2213          14.330870        20           29          382.000000   \n",
       "2915          19.388824        15           22          517.000000   \n",
       "2718          17.347895        17           24          459.000000   \n",
       "4786          21.974000        14           18          592.466667   \n",
       "27327         13.733750        21           30          370.291667   \n",
       "\n",
       "       Fuel_cost_per_year years_range year_range  \n",
       "2213                 1750         10s        10s  \n",
       "2915                 2400         10s        10s  \n",
       "2718                 2150         10s        10s  \n",
       "4786                 2200         80s        80s  \n",
       "27327                1400         00s        00s  "
      ]
     },
     "execution_count": 57,
     "metadata": {},
     "output_type": "execute_result"
    }
   ],
   "source": [
    "cars[\"year_range\"] = pd.cut(cars[\"Year\"], \n",
    "                      bins = [1980, 1989, 1999, 2009, 2020], \n",
    "                      labels=[\"80s\", \"90s\", \"00s\", \"10s\"])\n",
    "cars.iloc[sample.index,:]"
   ]
  },
  {
   "cell_type": "markdown",
   "metadata": {},
   "source": [
    "### Did cars consume more gas in the eighties?"
   ]
  },
  {
   "cell_type": "code",
   "execution_count": 60,
   "metadata": {},
   "outputs": [
    {
     "data": {
      "text/html": [
       "<div>\n",
       "<style scoped>\n",
       "    .dataframe tbody tr th:only-of-type {\n",
       "        vertical-align: middle;\n",
       "    }\n",
       "\n",
       "    .dataframe tbody tr th {\n",
       "        vertical-align: top;\n",
       "    }\n",
       "\n",
       "    .dataframe thead th {\n",
       "        text-align: right;\n",
       "    }\n",
       "</style>\n",
       "<table border=\"1\" class=\"dataframe\">\n",
       "  <thead>\n",
       "    <tr style=\"text-align: right;\">\n",
       "      <th></th>\n",
       "      <th>City_MPG</th>\n",
       "      <th>Highway_MPG</th>\n",
       "    </tr>\n",
       "    <tr>\n",
       "      <th>year_range</th>\n",
       "      <th></th>\n",
       "      <th></th>\n",
       "    </tr>\n",
       "  </thead>\n",
       "  <tbody>\n",
       "    <tr>\n",
       "      <th>80s</th>\n",
       "      <td>17.327209</td>\n",
       "      <td>22.389472</td>\n",
       "    </tr>\n",
       "    <tr>\n",
       "      <th>90s</th>\n",
       "      <td>16.954091</td>\n",
       "      <td>22.839639</td>\n",
       "    </tr>\n",
       "    <tr>\n",
       "      <th>00s</th>\n",
       "      <td>16.834199</td>\n",
       "      <td>23.205574</td>\n",
       "    </tr>\n",
       "    <tr>\n",
       "      <th>10s</th>\n",
       "      <td>19.546763</td>\n",
       "      <td>26.866469</td>\n",
       "    </tr>\n",
       "  </tbody>\n",
       "</table>\n",
       "</div>"
      ],
      "text/plain": [
       "             City_MPG  Highway_MPG\n",
       "year_range                        \n",
       "80s         17.327209    22.389472\n",
       "90s         16.954091    22.839639\n",
       "00s         16.834199    23.205574\n",
       "10s         19.546763    26.866469"
      ]
     },
     "execution_count": 60,
     "metadata": {},
     "output_type": "execute_result"
    }
   ],
   "source": [
    "cars.groupby(\"year_range\")[[\"City_MPG\", \"Highway_MPG\"]].mean()"
   ]
  },
  {
   "cell_type": "code",
   "execution_count": 168,
   "metadata": {},
   "outputs": [
    {
     "data": {
      "text/html": [
       "<div>\n",
       "<style scoped>\n",
       "    .dataframe tbody tr th:only-of-type {\n",
       "        vertical-align: middle;\n",
       "    }\n",
       "\n",
       "    .dataframe tbody tr th {\n",
       "        vertical-align: top;\n",
       "    }\n",
       "\n",
       "    .dataframe thead tr th {\n",
       "        text-align: left;\n",
       "    }\n",
       "\n",
       "    .dataframe thead tr:last-of-type th {\n",
       "        text-align: right;\n",
       "    }\n",
       "</style>\n",
       "<table border=\"1\" class=\"dataframe\">\n",
       "  <thead>\n",
       "    <tr>\n",
       "      <th></th>\n",
       "      <th colspan=\"2\" halign=\"left\">City_MPG</th>\n",
       "      <th colspan=\"2\" halign=\"left\">Highway_MPG</th>\n",
       "    </tr>\n",
       "    <tr>\n",
       "      <th></th>\n",
       "      <th>mean</th>\n",
       "      <th>sum</th>\n",
       "      <th>mean</th>\n",
       "      <th>sum</th>\n",
       "    </tr>\n",
       "    <tr>\n",
       "      <th>year_range</th>\n",
       "      <th></th>\n",
       "      <th></th>\n",
       "      <th></th>\n",
       "      <th></th>\n",
       "    </tr>\n",
       "  </thead>\n",
       "  <tbody>\n",
       "    <tr>\n",
       "      <th>80s</th>\n",
       "      <td>17.327209</td>\n",
       "      <td>118830</td>\n",
       "      <td>22.389472</td>\n",
       "      <td>153547</td>\n",
       "    </tr>\n",
       "    <tr>\n",
       "      <th>90s</th>\n",
       "      <td>16.954091</td>\n",
       "      <td>159538</td>\n",
       "      <td>22.839639</td>\n",
       "      <td>214921</td>\n",
       "    </tr>\n",
       "    <tr>\n",
       "      <th>00s</th>\n",
       "      <td>16.834199</td>\n",
       "      <td>178190</td>\n",
       "      <td>23.205574</td>\n",
       "      <td>245631</td>\n",
       "    </tr>\n",
       "    <tr>\n",
       "      <th>10s</th>\n",
       "      <td>19.546763</td>\n",
       "      <td>177856</td>\n",
       "      <td>26.866469</td>\n",
       "      <td>244458</td>\n",
       "    </tr>\n",
       "  </tbody>\n",
       "</table>\n",
       "</div>"
      ],
      "text/plain": [
       "             City_MPG         Highway_MPG        \n",
       "                 mean     sum        mean     sum\n",
       "year_range                                       \n",
       "80s         17.327209  118830   22.389472  153547\n",
       "90s         16.954091  159538   22.839639  214921\n",
       "00s         16.834199  178190   23.205574  245631\n",
       "10s         19.546763  177856   26.866469  244458"
      ]
     },
     "execution_count": 168,
     "metadata": {},
     "output_type": "execute_result"
    }
   ],
   "source": [
    "(\n",
    "cars\n",
    "    .groupby('year_range')\n",
    "    .agg({\n",
    "        'City_MPG':['mean','sum'],\n",
    "        'Highway_MPG':['mean','sum']\n",
    "    })\n",
    ")"
   ]
  },
  {
   "cell_type": "markdown",
   "metadata": {},
   "source": [
    "### Do cars with automatic transmission consume more fuel than cars with manual transmission?"
   ]
  },
  {
   "cell_type": "markdown",
   "metadata": {},
   "source": [
    "### OPTION 1"
   ]
  },
  {
   "cell_type": "code",
   "execution_count": 62,
   "metadata": {},
   "outputs": [
    {
     "data": {
      "text/plain": [
       "trans_type\n",
       "automatic    24290\n",
       "manual       11662\n",
       "Name: trans_type, dtype: int64"
      ]
     },
     "execution_count": 62,
     "metadata": {},
     "output_type": "execute_result"
    }
   ],
   "source": [
    "def transmision_type(string): \n",
    "    if 'automatic' in string.lower() or 'auto' in string.lower(): \n",
    "        return 'automatic'\n",
    "    elif 'manual' in string.lower(): \n",
    "        return 'manual'\n",
    "    else: \n",
    "        return 'check'\n",
    "\n",
    "cars['trans_type'] = [transmision_type(trans) for trans in cars[\"Trans\"]]\n",
    "cars.groupby(['trans_type'])['trans_type'].count()"
   ]
  },
  {
   "cell_type": "code",
   "execution_count": null,
   "metadata": {
    "tags": []
   },
   "outputs": [],
   "source": [
    "cars.groupby(\"trans_type\")[[\"City_MPG\", \"Highway_MPG\"]].mean()"
   ]
  },
  {
   "cell_type": "code",
   "execution_count": 191,
   "metadata": {},
   "outputs": [
    {
     "data": {
      "text/html": [
       "<div>\n",
       "<style scoped>\n",
       "    .dataframe tbody tr th:only-of-type {\n",
       "        vertical-align: middle;\n",
       "    }\n",
       "\n",
       "    .dataframe tbody tr th {\n",
       "        vertical-align: top;\n",
       "    }\n",
       "\n",
       "    .dataframe thead th {\n",
       "        text-align: right;\n",
       "    }\n",
       "</style>\n",
       "<table border=\"1\" class=\"dataframe\">\n",
       "  <thead>\n",
       "    <tr style=\"text-align: right;\">\n",
       "      <th></th>\n",
       "      <th>City_MPG</th>\n",
       "      <th>Highway_MPG</th>\n",
       "      <th>Fuel_Barrels_Year</th>\n",
       "    </tr>\n",
       "    <tr>\n",
       "      <th>trans_type</th>\n",
       "      <th></th>\n",
       "      <th></th>\n",
       "      <th></th>\n",
       "    </tr>\n",
       "  </thead>\n",
       "  <tbody>\n",
       "    <tr>\n",
       "      <th>automatic</th>\n",
       "      <td>17.119638</td>\n",
       "      <td>23.245080</td>\n",
       "      <td>18.043152</td>\n",
       "    </tr>\n",
       "    <tr>\n",
       "      <th>manual</th>\n",
       "      <td>18.742754</td>\n",
       "      <td>25.204425</td>\n",
       "      <td>16.704904</td>\n",
       "    </tr>\n",
       "  </tbody>\n",
       "</table>\n",
       "</div>"
      ],
      "text/plain": [
       "             City_MPG  Highway_MPG  Fuel_Barrels_Year\n",
       "trans_type                                           \n",
       "automatic   17.119638    23.245080          18.043152\n",
       "manual      18.742754    25.204425          16.704904"
      ]
     },
     "execution_count": 191,
     "metadata": {},
     "output_type": "execute_result"
    }
   ],
   "source": [
    "# another option to get the same output\n",
    "(\n",
    "cars\n",
    "    .groupby(\"trans_type\")\n",
    "    .agg({\n",
    "        \"City_MPG\":\"mean\", \n",
    "        \"Highway_MPG\":\"mean\",\n",
    "        \"Fuel_Barrels_Year\":\"mean\"\n",
    "    })\n",
    ")"
   ]
  },
  {
   "cell_type": "markdown",
   "metadata": {},
   "source": [
    "### Group cars by fuel type and aggregate them by the following criteria: \n",
    "\n",
    "- The maximum number cylinders\n",
    "- The oldest year\n",
    "- The average Miles Per Gallon in the city"
   ]
  },
  {
   "cell_type": "code",
   "execution_count": 64,
   "metadata": {},
   "outputs": [
    {
     "data": {
      "text/plain": [
       "Index(['Brand', 'Model', 'Year', 'Engine_cc', 'Cyl', 'Trans', 'Drivetrain',\n",
       "       'Class', 'Fuel_type', 'Barrels_per_year', 'City_MPG', 'Highway_MPG',\n",
       "       'CO2_grams_per_mile', 'Fuel_cost_per_year', 'years_range', 'year_range',\n",
       "       'trans_type'],\n",
       "      dtype='object')"
      ]
     },
     "execution_count": 64,
     "metadata": {},
     "output_type": "execute_result"
    }
   ],
   "source": [
    "cars.columns"
   ]
  },
  {
   "cell_type": "code",
   "execution_count": 199,
   "metadata": {
    "tags": []
   },
   "outputs": [
    {
     "data": {
      "text/html": [
       "<div>\n",
       "<style scoped>\n",
       "    .dataframe tbody tr th:only-of-type {\n",
       "        vertical-align: middle;\n",
       "    }\n",
       "\n",
       "    .dataframe tbody tr th {\n",
       "        vertical-align: top;\n",
       "    }\n",
       "\n",
       "    .dataframe thead th {\n",
       "        text-align: right;\n",
       "    }\n",
       "</style>\n",
       "<table border=\"1\" class=\"dataframe\">\n",
       "  <thead>\n",
       "    <tr style=\"text-align: right;\">\n",
       "      <th></th>\n",
       "      <th>Cylinders</th>\n",
       "      <th>Year</th>\n",
       "      <th>City_MPG</th>\n",
       "    </tr>\n",
       "    <tr>\n",
       "      <th>Fuel_Type</th>\n",
       "      <th></th>\n",
       "      <th></th>\n",
       "      <th></th>\n",
       "    </tr>\n",
       "  </thead>\n",
       "  <tbody>\n",
       "    <tr>\n",
       "      <th>CNG</th>\n",
       "      <td>8.0</td>\n",
       "      <td>1993</td>\n",
       "      <td>15.966667</td>\n",
       "    </tr>\n",
       "    <tr>\n",
       "      <th>Diesel</th>\n",
       "      <td>10.0</td>\n",
       "      <td>1984</td>\n",
       "      <td>21.173436</td>\n",
       "    </tr>\n",
       "    <tr>\n",
       "      <th>Gasoline or E85</th>\n",
       "      <td>8.0</td>\n",
       "      <td>2000</td>\n",
       "      <td>15.347280</td>\n",
       "    </tr>\n",
       "    <tr>\n",
       "      <th>Gasoline or natural gas</th>\n",
       "      <td>8.0</td>\n",
       "      <td>2000</td>\n",
       "      <td>13.700000</td>\n",
       "    </tr>\n",
       "    <tr>\n",
       "      <th>Gasoline or propane</th>\n",
       "      <td>8.0</td>\n",
       "      <td>2001</td>\n",
       "      <td>12.000000</td>\n",
       "    </tr>\n",
       "    <tr>\n",
       "      <th>Midgrade</th>\n",
       "      <td>8.0</td>\n",
       "      <td>2011</td>\n",
       "      <td>14.851351</td>\n",
       "    </tr>\n",
       "    <tr>\n",
       "      <th>Premium</th>\n",
       "      <td>16.0</td>\n",
       "      <td>1985</td>\n",
       "      <td>16.793166</td>\n",
       "    </tr>\n",
       "    <tr>\n",
       "      <th>Premium Gas or Electricity</th>\n",
       "      <td>8.0</td>\n",
       "      <td>2011</td>\n",
       "      <td>30.705882</td>\n",
       "    </tr>\n",
       "    <tr>\n",
       "      <th>Premium and Electricity</th>\n",
       "      <td>8.0</td>\n",
       "      <td>2014</td>\n",
       "      <td>24.900000</td>\n",
       "    </tr>\n",
       "    <tr>\n",
       "      <th>Premium or E85</th>\n",
       "      <td>12.0</td>\n",
       "      <td>2004</td>\n",
       "      <td>17.305785</td>\n",
       "    </tr>\n",
       "    <tr>\n",
       "      <th>Regular</th>\n",
       "      <td>12.0</td>\n",
       "      <td>1984</td>\n",
       "      <td>17.970195</td>\n",
       "    </tr>\n",
       "    <tr>\n",
       "      <th>Regular Gas and Electricity</th>\n",
       "      <td>4.0</td>\n",
       "      <td>2012</td>\n",
       "      <td>43.125000</td>\n",
       "    </tr>\n",
       "    <tr>\n",
       "      <th>Regular Gas or Electricity</th>\n",
       "      <td>4.0</td>\n",
       "      <td>2016</td>\n",
       "      <td>43.000000</td>\n",
       "    </tr>\n",
       "  </tbody>\n",
       "</table>\n",
       "</div>"
      ],
      "text/plain": [
       "                             Cylinders  Year   City_MPG\n",
       "Fuel_Type                                              \n",
       "CNG                                8.0  1993  15.966667\n",
       "Diesel                            10.0  1984  21.173436\n",
       "Gasoline or E85                    8.0  2000  15.347280\n",
       "Gasoline or natural gas            8.0  2000  13.700000\n",
       "Gasoline or propane                8.0  2001  12.000000\n",
       "Midgrade                           8.0  2011  14.851351\n",
       "Premium                           16.0  1985  16.793166\n",
       "Premium Gas or Electricity         8.0  2011  30.705882\n",
       "Premium and Electricity            8.0  2014  24.900000\n",
       "Premium or E85                    12.0  2004  17.305785\n",
       "Regular                           12.0  1984  17.970195\n",
       "Regular Gas and Electricity        4.0  2012  43.125000\n",
       "Regular Gas or Electricity         4.0  2016  43.000000"
      ]
     },
     "execution_count": 199,
     "metadata": {},
     "output_type": "execute_result"
    }
   ],
   "source": [
    "cars.groupby('Fuel_Type').aggregate({'Cylinders': 'max',\n",
    "                                     'Year': 'min',\n",
    "                                     'City_MPG':'mean'})"
   ]
  },
  {
   "cell_type": "markdown",
   "metadata": {},
   "source": [
    "### We want to use \"Drivetrain\" in a statistical model. Convert the column to numeric."
   ]
  },
  {
   "cell_type": "code",
   "execution_count": 198,
   "metadata": {
    "tags": []
   },
   "outputs": [
    {
     "data": {
      "text/html": [
       "<div>\n",
       "<style scoped>\n",
       "    .dataframe tbody tr th:only-of-type {\n",
       "        vertical-align: middle;\n",
       "    }\n",
       "\n",
       "    .dataframe tbody tr th {\n",
       "        vertical-align: top;\n",
       "    }\n",
       "\n",
       "    .dataframe thead th {\n",
       "        text-align: right;\n",
       "    }\n",
       "</style>\n",
       "<table border=\"1\" class=\"dataframe\">\n",
       "  <thead>\n",
       "    <tr style=\"text-align: right;\">\n",
       "      <th></th>\n",
       "      <th>color</th>\n",
       "      <th>numbers</th>\n",
       "    </tr>\n",
       "  </thead>\n",
       "  <tbody>\n",
       "    <tr>\n",
       "      <th>0</th>\n",
       "      <td>blue</td>\n",
       "      <td>1</td>\n",
       "    </tr>\n",
       "    <tr>\n",
       "      <th>1</th>\n",
       "      <td>yellow</td>\n",
       "      <td>4</td>\n",
       "    </tr>\n",
       "    <tr>\n",
       "      <th>2</th>\n",
       "      <td>blue</td>\n",
       "      <td>5</td>\n",
       "    </tr>\n",
       "    <tr>\n",
       "      <th>3</th>\n",
       "      <td>blue</td>\n",
       "      <td>2</td>\n",
       "    </tr>\n",
       "    <tr>\n",
       "      <th>4</th>\n",
       "      <td>yellow</td>\n",
       "      <td>4</td>\n",
       "    </tr>\n",
       "    <tr>\n",
       "      <th>5</th>\n",
       "      <td>red</td>\n",
       "      <td>6</td>\n",
       "    </tr>\n",
       "  </tbody>\n",
       "</table>\n",
       "</div>"
      ],
      "text/plain": [
       "    color  numbers\n",
       "0    blue        1\n",
       "1  yellow        4\n",
       "2    blue        5\n",
       "3    blue        2\n",
       "4  yellow        4\n",
       "5     red        6"
      ]
     },
     "execution_count": 198,
     "metadata": {},
     "output_type": "execute_result"
    }
   ],
   "source": [
    "# Example\n",
    "colors = pd.DataFrame({\n",
    "    \"color\":[\"blue\",\"yellow\",\"blue\",\"blue\",\"yellow\",\"red\"],\n",
    "    \"numbers\":[1, 4, 5, 2, 4, 6]\n",
    "})\n",
    "colors"
   ]
  },
  {
   "cell_type": "code",
   "execution_count": 66,
   "metadata": {},
   "outputs": [
    {
     "data": {
      "text/html": [
       "<div>\n",
       "<style scoped>\n",
       "    .dataframe tbody tr th:only-of-type {\n",
       "        vertical-align: middle;\n",
       "    }\n",
       "\n",
       "    .dataframe tbody tr th {\n",
       "        vertical-align: top;\n",
       "    }\n",
       "\n",
       "    .dataframe thead th {\n",
       "        text-align: right;\n",
       "    }\n",
       "</style>\n",
       "<table border=\"1\" class=\"dataframe\">\n",
       "  <thead>\n",
       "    <tr style=\"text-align: right;\">\n",
       "      <th></th>\n",
       "      <th>2-Wheel Drive</th>\n",
       "      <th>2-Wheel Drive, Front</th>\n",
       "      <th>4-Wheel Drive</th>\n",
       "      <th>4-Wheel or All-Wheel Drive</th>\n",
       "      <th>All-Wheel Drive</th>\n",
       "      <th>Front-Wheel Drive</th>\n",
       "      <th>Part-time 4-Wheel Drive</th>\n",
       "      <th>Rear-Wheel Drive</th>\n",
       "    </tr>\n",
       "  </thead>\n",
       "  <tbody>\n",
       "    <tr>\n",
       "      <th>0</th>\n",
       "      <td>1</td>\n",
       "      <td>0</td>\n",
       "      <td>0</td>\n",
       "      <td>0</td>\n",
       "      <td>0</td>\n",
       "      <td>0</td>\n",
       "      <td>0</td>\n",
       "      <td>0</td>\n",
       "    </tr>\n",
       "    <tr>\n",
       "      <th>1</th>\n",
       "      <td>1</td>\n",
       "      <td>0</td>\n",
       "      <td>0</td>\n",
       "      <td>0</td>\n",
       "      <td>0</td>\n",
       "      <td>0</td>\n",
       "      <td>0</td>\n",
       "      <td>0</td>\n",
       "    </tr>\n",
       "    <tr>\n",
       "      <th>2</th>\n",
       "      <td>0</td>\n",
       "      <td>0</td>\n",
       "      <td>0</td>\n",
       "      <td>0</td>\n",
       "      <td>0</td>\n",
       "      <td>0</td>\n",
       "      <td>0</td>\n",
       "      <td>1</td>\n",
       "    </tr>\n",
       "    <tr>\n",
       "      <th>3</th>\n",
       "      <td>0</td>\n",
       "      <td>0</td>\n",
       "      <td>0</td>\n",
       "      <td>0</td>\n",
       "      <td>0</td>\n",
       "      <td>0</td>\n",
       "      <td>0</td>\n",
       "      <td>1</td>\n",
       "    </tr>\n",
       "    <tr>\n",
       "      <th>4</th>\n",
       "      <td>0</td>\n",
       "      <td>0</td>\n",
       "      <td>0</td>\n",
       "      <td>0</td>\n",
       "      <td>0</td>\n",
       "      <td>0</td>\n",
       "      <td>0</td>\n",
       "      <td>1</td>\n",
       "    </tr>\n",
       "    <tr>\n",
       "      <th>...</th>\n",
       "      <td>...</td>\n",
       "      <td>...</td>\n",
       "      <td>...</td>\n",
       "      <td>...</td>\n",
       "      <td>...</td>\n",
       "      <td>...</td>\n",
       "      <td>...</td>\n",
       "      <td>...</td>\n",
       "    </tr>\n",
       "    <tr>\n",
       "      <th>35947</th>\n",
       "      <td>0</td>\n",
       "      <td>0</td>\n",
       "      <td>0</td>\n",
       "      <td>0</td>\n",
       "      <td>0</td>\n",
       "      <td>0</td>\n",
       "      <td>0</td>\n",
       "      <td>1</td>\n",
       "    </tr>\n",
       "    <tr>\n",
       "      <th>35948</th>\n",
       "      <td>0</td>\n",
       "      <td>0</td>\n",
       "      <td>0</td>\n",
       "      <td>0</td>\n",
       "      <td>0</td>\n",
       "      <td>0</td>\n",
       "      <td>0</td>\n",
       "      <td>1</td>\n",
       "    </tr>\n",
       "    <tr>\n",
       "      <th>35949</th>\n",
       "      <td>0</td>\n",
       "      <td>0</td>\n",
       "      <td>0</td>\n",
       "      <td>0</td>\n",
       "      <td>0</td>\n",
       "      <td>0</td>\n",
       "      <td>0</td>\n",
       "      <td>1</td>\n",
       "    </tr>\n",
       "    <tr>\n",
       "      <th>35950</th>\n",
       "      <td>0</td>\n",
       "      <td>0</td>\n",
       "      <td>0</td>\n",
       "      <td>0</td>\n",
       "      <td>0</td>\n",
       "      <td>0</td>\n",
       "      <td>0</td>\n",
       "      <td>1</td>\n",
       "    </tr>\n",
       "    <tr>\n",
       "      <th>35951</th>\n",
       "      <td>0</td>\n",
       "      <td>0</td>\n",
       "      <td>0</td>\n",
       "      <td>0</td>\n",
       "      <td>0</td>\n",
       "      <td>0</td>\n",
       "      <td>0</td>\n",
       "      <td>1</td>\n",
       "    </tr>\n",
       "  </tbody>\n",
       "</table>\n",
       "<p>35952 rows × 8 columns</p>\n",
       "</div>"
      ],
      "text/plain": [
       "       2-Wheel Drive  2-Wheel Drive, Front  4-Wheel Drive  \\\n",
       "0                  1                     0              0   \n",
       "1                  1                     0              0   \n",
       "2                  0                     0              0   \n",
       "3                  0                     0              0   \n",
       "4                  0                     0              0   \n",
       "...              ...                   ...            ...   \n",
       "35947              0                     0              0   \n",
       "35948              0                     0              0   \n",
       "35949              0                     0              0   \n",
       "35950              0                     0              0   \n",
       "35951              0                     0              0   \n",
       "\n",
       "       4-Wheel or All-Wheel Drive  All-Wheel Drive  Front-Wheel Drive  \\\n",
       "0                               0                0                  0   \n",
       "1                               0                0                  0   \n",
       "2                               0                0                  0   \n",
       "3                               0                0                  0   \n",
       "4                               0                0                  0   \n",
       "...                           ...              ...                ...   \n",
       "35947                           0                0                  0   \n",
       "35948                           0                0                  0   \n",
       "35949                           0                0                  0   \n",
       "35950                           0                0                  0   \n",
       "35951                           0                0                  0   \n",
       "\n",
       "       Part-time 4-Wheel Drive  Rear-Wheel Drive  \n",
       "0                            0                 0  \n",
       "1                            0                 0  \n",
       "2                            0                 1  \n",
       "3                            0                 1  \n",
       "4                            0                 1  \n",
       "...                        ...               ...  \n",
       "35947                        0                 1  \n",
       "35948                        0                 1  \n",
       "35949                        0                 1  \n",
       "35950                        0                 1  \n",
       "35951                        0                 1  \n",
       "\n",
       "[35952 rows x 8 columns]"
      ]
     },
     "execution_count": 66,
     "metadata": {},
     "output_type": "execute_result"
    }
   ],
   "source": [
    "pd.get_dummies(cars[\"Drivetrain\"])"
   ]
  },
  {
   "cell_type": "code",
   "execution_count": null,
   "metadata": {},
   "outputs": [],
   "source": [
    "(\n",
    "pd.concat([cars, dummies_drivetrain], axis=1)\n",
    "    .drop(\"Drivetrain\", axis=1)\n",
    "    .head(3)\n",
    ")"
   ]
  },
  {
   "cell_type": "markdown",
   "metadata": {},
   "source": [
    "### Read the `car_brands.csv` data:"
   ]
  },
  {
   "cell_type": "code",
   "execution_count": 70,
   "metadata": {
    "tags": []
   },
   "outputs": [
    {
     "data": {
      "text/html": [
       "<div>\n",
       "<style scoped>\n",
       "    .dataframe tbody tr th:only-of-type {\n",
       "        vertical-align: middle;\n",
       "    }\n",
       "\n",
       "    .dataframe tbody tr th {\n",
       "        vertical-align: top;\n",
       "    }\n",
       "\n",
       "    .dataframe thead th {\n",
       "        text-align: right;\n",
       "    }\n",
       "</style>\n",
       "<table border=\"1\" class=\"dataframe\">\n",
       "  <thead>\n",
       "    <tr style=\"text-align: right;\">\n",
       "      <th></th>\n",
       "      <th>brand</th>\n",
       "      <th>revenue</th>\n",
       "      <th>production</th>\n",
       "    </tr>\n",
       "  </thead>\n",
       "  <tbody>\n",
       "    <tr>\n",
       "      <th>0</th>\n",
       "      <td>AM General</td>\n",
       "      <td>1537</td>\n",
       "      <td>1.002916</td>\n",
       "    </tr>\n",
       "    <tr>\n",
       "      <th>1</th>\n",
       "      <td>ASC Incorporated</td>\n",
       "      <td>232</td>\n",
       "      <td>1.628105</td>\n",
       "    </tr>\n",
       "    <tr>\n",
       "      <th>2</th>\n",
       "      <td>Acura</td>\n",
       "      <td>234</td>\n",
       "      <td>3.394481</td>\n",
       "    </tr>\n",
       "    <tr>\n",
       "      <th>3</th>\n",
       "      <td>Alfa Romeo</td>\n",
       "      <td>1174</td>\n",
       "      <td>2.313726</td>\n",
       "    </tr>\n",
       "    <tr>\n",
       "      <th>4</th>\n",
       "      <td>American Motors Corporation</td>\n",
       "      <td>1230</td>\n",
       "      <td>1.231024</td>\n",
       "    </tr>\n",
       "    <tr>\n",
       "      <th>...</th>\n",
       "      <td>...</td>\n",
       "      <td>...</td>\n",
       "      <td>...</td>\n",
       "    </tr>\n",
       "    <tr>\n",
       "      <th>122</th>\n",
       "      <td>Volkswagen</td>\n",
       "      <td>273</td>\n",
       "      <td>1.033316</td>\n",
       "    </tr>\n",
       "    <tr>\n",
       "      <th>123</th>\n",
       "      <td>Volvo</td>\n",
       "      <td>1312</td>\n",
       "      <td>0.057454</td>\n",
       "    </tr>\n",
       "    <tr>\n",
       "      <th>124</th>\n",
       "      <td>Wallace Environmental</td>\n",
       "      <td>277</td>\n",
       "      <td>5.744609</td>\n",
       "    </tr>\n",
       "    <tr>\n",
       "      <th>125</th>\n",
       "      <td>Yugo</td>\n",
       "      <td>508</td>\n",
       "      <td>0.520953</td>\n",
       "    </tr>\n",
       "    <tr>\n",
       "      <th>126</th>\n",
       "      <td>smart</td>\n",
       "      <td>447</td>\n",
       "      <td>2.229253</td>\n",
       "    </tr>\n",
       "  </tbody>\n",
       "</table>\n",
       "<p>127 rows × 3 columns</p>\n",
       "</div>"
      ],
      "text/plain": [
       "                           brand  revenue  production\n",
       "0                     AM General     1537    1.002916\n",
       "1               ASC Incorporated      232    1.628105\n",
       "2                          Acura      234    3.394481\n",
       "3                     Alfa Romeo     1174    2.313726\n",
       "4    American Motors Corporation     1230    1.231024\n",
       "..                           ...      ...         ...\n",
       "122                   Volkswagen      273    1.033316\n",
       "123                        Volvo     1312    0.057454\n",
       "124        Wallace Environmental      277    5.744609\n",
       "125                         Yugo      508    0.520953\n",
       "126                        smart      447    2.229253\n",
       "\n",
       "[127 rows x 3 columns]"
      ]
     },
     "execution_count": 70,
     "metadata": {},
     "output_type": "execute_result"
    }
   ],
   "source": [
    "car_brands = pd.read_csv('car_brands.csv')\n",
    "car_brands"
   ]
  },
  {
   "cell_type": "markdown",
   "metadata": {},
   "source": [
    "### Join the cars dataframe with the car brands dataframe."
   ]
  },
  {
   "cell_type": "code",
   "execution_count": 72,
   "metadata": {},
   "outputs": [
    {
     "data": {
      "text/html": [
       "<div>\n",
       "<style scoped>\n",
       "    .dataframe tbody tr th:only-of-type {\n",
       "        vertical-align: middle;\n",
       "    }\n",
       "\n",
       "    .dataframe tbody tr th {\n",
       "        vertical-align: top;\n",
       "    }\n",
       "\n",
       "    .dataframe thead th {\n",
       "        text-align: right;\n",
       "    }\n",
       "</style>\n",
       "<table border=\"1\" class=\"dataframe\">\n",
       "  <thead>\n",
       "    <tr style=\"text-align: right;\">\n",
       "      <th></th>\n",
       "      <th>Brand</th>\n",
       "      <th>Model</th>\n",
       "      <th>Year</th>\n",
       "      <th>Engine_cc</th>\n",
       "      <th>Cyl</th>\n",
       "      <th>Trans</th>\n",
       "      <th>Drivetrain</th>\n",
       "      <th>Class</th>\n",
       "      <th>Fuel_type</th>\n",
       "      <th>Barrels_per_year</th>\n",
       "      <th>City_MPG</th>\n",
       "      <th>Highway_MPG</th>\n",
       "      <th>CO2_grams_per_mile</th>\n",
       "      <th>Fuel_cost_per_year</th>\n",
       "      <th>years_range</th>\n",
       "      <th>year_range</th>\n",
       "      <th>trans_type</th>\n",
       "    </tr>\n",
       "  </thead>\n",
       "  <tbody>\n",
       "    <tr>\n",
       "      <th>0</th>\n",
       "      <td>AM General</td>\n",
       "      <td>DJ Po Vehicle 2WD</td>\n",
       "      <td>1984</td>\n",
       "      <td>2.5</td>\n",
       "      <td>4.0</td>\n",
       "      <td>Automatic 3-spd</td>\n",
       "      <td>2-Wheel Drive</td>\n",
       "      <td>Special Purpose Vehicle 2WD</td>\n",
       "      <td>Regular</td>\n",
       "      <td>19.388824</td>\n",
       "      <td>18</td>\n",
       "      <td>17</td>\n",
       "      <td>522.764706</td>\n",
       "      <td>1950</td>\n",
       "      <td>80s</td>\n",
       "      <td>80s</td>\n",
       "      <td>automatic</td>\n",
       "    </tr>\n",
       "    <tr>\n",
       "      <th>1</th>\n",
       "      <td>AM General</td>\n",
       "      <td>FJ8c Post Office</td>\n",
       "      <td>1984</td>\n",
       "      <td>4.2</td>\n",
       "      <td>6.0</td>\n",
       "      <td>Automatic 3-spd</td>\n",
       "      <td>2-Wheel Drive</td>\n",
       "      <td>Special Purpose Vehicle 2WD</td>\n",
       "      <td>Regular</td>\n",
       "      <td>25.354615</td>\n",
       "      <td>13</td>\n",
       "      <td>13</td>\n",
       "      <td>683.615385</td>\n",
       "      <td>2550</td>\n",
       "      <td>80s</td>\n",
       "      <td>80s</td>\n",
       "      <td>automatic</td>\n",
       "    </tr>\n",
       "    <tr>\n",
       "      <th>2</th>\n",
       "      <td>AM General</td>\n",
       "      <td>Post Office DJ5 2WD</td>\n",
       "      <td>1985</td>\n",
       "      <td>2.5</td>\n",
       "      <td>4.0</td>\n",
       "      <td>Automatic 3-spd</td>\n",
       "      <td>Rear-Wheel Drive</td>\n",
       "      <td>Special Purpose Vehicle 2WD</td>\n",
       "      <td>Regular</td>\n",
       "      <td>20.600625</td>\n",
       "      <td>16</td>\n",
       "      <td>17</td>\n",
       "      <td>555.437500</td>\n",
       "      <td>2100</td>\n",
       "      <td>80s</td>\n",
       "      <td>80s</td>\n",
       "      <td>automatic</td>\n",
       "    </tr>\n",
       "    <tr>\n",
       "      <th>3</th>\n",
       "      <td>AM General</td>\n",
       "      <td>Post Office DJ8 2WD</td>\n",
       "      <td>1985</td>\n",
       "      <td>4.2</td>\n",
       "      <td>6.0</td>\n",
       "      <td>Automatic 3-spd</td>\n",
       "      <td>Rear-Wheel Drive</td>\n",
       "      <td>Special Purpose Vehicle 2WD</td>\n",
       "      <td>Regular</td>\n",
       "      <td>25.354615</td>\n",
       "      <td>13</td>\n",
       "      <td>13</td>\n",
       "      <td>683.615385</td>\n",
       "      <td>2550</td>\n",
       "      <td>80s</td>\n",
       "      <td>80s</td>\n",
       "      <td>automatic</td>\n",
       "    </tr>\n",
       "    <tr>\n",
       "      <th>4</th>\n",
       "      <td>ASC Incorporated</td>\n",
       "      <td>GNX</td>\n",
       "      <td>1987</td>\n",
       "      <td>3.8</td>\n",
       "      <td>6.0</td>\n",
       "      <td>Automatic 4-spd</td>\n",
       "      <td>Rear-Wheel Drive</td>\n",
       "      <td>Midsize Cars</td>\n",
       "      <td>Premium</td>\n",
       "      <td>20.600625</td>\n",
       "      <td>14</td>\n",
       "      <td>21</td>\n",
       "      <td>555.437500</td>\n",
       "      <td>2550</td>\n",
       "      <td>80s</td>\n",
       "      <td>80s</td>\n",
       "      <td>automatic</td>\n",
       "    </tr>\n",
       "  </tbody>\n",
       "</table>\n",
       "</div>"
      ],
      "text/plain": [
       "              Brand                Model  Year  Engine_cc  Cyl  \\\n",
       "0        AM General    DJ Po Vehicle 2WD  1984        2.5  4.0   \n",
       "1        AM General     FJ8c Post Office  1984        4.2  6.0   \n",
       "2        AM General  Post Office DJ5 2WD  1985        2.5  4.0   \n",
       "3        AM General  Post Office DJ8 2WD  1985        4.2  6.0   \n",
       "4  ASC Incorporated                  GNX  1987        3.8  6.0   \n",
       "\n",
       "             Trans        Drivetrain                        Class Fuel_type  \\\n",
       "0  Automatic 3-spd     2-Wheel Drive  Special Purpose Vehicle 2WD   Regular   \n",
       "1  Automatic 3-spd     2-Wheel Drive  Special Purpose Vehicle 2WD   Regular   \n",
       "2  Automatic 3-spd  Rear-Wheel Drive  Special Purpose Vehicle 2WD   Regular   \n",
       "3  Automatic 3-spd  Rear-Wheel Drive  Special Purpose Vehicle 2WD   Regular   \n",
       "4  Automatic 4-spd  Rear-Wheel Drive                 Midsize Cars   Premium   \n",
       "\n",
       "   Barrels_per_year  City_MPG  Highway_MPG  CO2_grams_per_mile  \\\n",
       "0         19.388824        18           17          522.764706   \n",
       "1         25.354615        13           13          683.615385   \n",
       "2         20.600625        16           17          555.437500   \n",
       "3         25.354615        13           13          683.615385   \n",
       "4         20.600625        14           21          555.437500   \n",
       "\n",
       "   Fuel_cost_per_year years_range year_range trans_type  \n",
       "0                1950         80s        80s  automatic  \n",
       "1                2550         80s        80s  automatic  \n",
       "2                2100         80s        80s  automatic  \n",
       "3                2550         80s        80s  automatic  \n",
       "4                2550         80s        80s  automatic  "
      ]
     },
     "execution_count": 72,
     "metadata": {},
     "output_type": "execute_result"
    }
   ],
   "source": [
    "cars.head()"
   ]
  },
  {
   "cell_type": "code",
   "execution_count": 74,
   "metadata": {},
   "outputs": [
    {
     "data": {
      "text/html": [
       "<div>\n",
       "<style scoped>\n",
       "    .dataframe tbody tr th:only-of-type {\n",
       "        vertical-align: middle;\n",
       "    }\n",
       "\n",
       "    .dataframe tbody tr th {\n",
       "        vertical-align: top;\n",
       "    }\n",
       "\n",
       "    .dataframe thead th {\n",
       "        text-align: right;\n",
       "    }\n",
       "</style>\n",
       "<table border=\"1\" class=\"dataframe\">\n",
       "  <thead>\n",
       "    <tr style=\"text-align: right;\">\n",
       "      <th></th>\n",
       "      <th>brand</th>\n",
       "      <th>revenue</th>\n",
       "      <th>production</th>\n",
       "    </tr>\n",
       "  </thead>\n",
       "  <tbody>\n",
       "    <tr>\n",
       "      <th>0</th>\n",
       "      <td>AM General</td>\n",
       "      <td>1537</td>\n",
       "      <td>1.002916</td>\n",
       "    </tr>\n",
       "    <tr>\n",
       "      <th>1</th>\n",
       "      <td>ASC Incorporated</td>\n",
       "      <td>232</td>\n",
       "      <td>1.628105</td>\n",
       "    </tr>\n",
       "    <tr>\n",
       "      <th>2</th>\n",
       "      <td>Acura</td>\n",
       "      <td>234</td>\n",
       "      <td>3.394481</td>\n",
       "    </tr>\n",
       "    <tr>\n",
       "      <th>3</th>\n",
       "      <td>Alfa Romeo</td>\n",
       "      <td>1174</td>\n",
       "      <td>2.313726</td>\n",
       "    </tr>\n",
       "    <tr>\n",
       "      <th>4</th>\n",
       "      <td>American Motors Corporation</td>\n",
       "      <td>1230</td>\n",
       "      <td>1.231024</td>\n",
       "    </tr>\n",
       "  </tbody>\n",
       "</table>\n",
       "</div>"
      ],
      "text/plain": [
       "                         brand  revenue  production\n",
       "0                   AM General     1537    1.002916\n",
       "1             ASC Incorporated      232    1.628105\n",
       "2                        Acura      234    3.394481\n",
       "3                   Alfa Romeo     1174    2.313726\n",
       "4  American Motors Corporation     1230    1.231024"
      ]
     },
     "execution_count": 74,
     "metadata": {},
     "output_type": "execute_result"
    }
   ],
   "source": [
    "car_brands.head()"
   ]
  },
  {
   "cell_type": "code",
   "execution_count": 77,
   "metadata": {},
   "outputs": [
    {
     "data": {
      "text/html": [
       "<div>\n",
       "<style scoped>\n",
       "    .dataframe tbody tr th:only-of-type {\n",
       "        vertical-align: middle;\n",
       "    }\n",
       "\n",
       "    .dataframe tbody tr th {\n",
       "        vertical-align: top;\n",
       "    }\n",
       "\n",
       "    .dataframe thead th {\n",
       "        text-align: right;\n",
       "    }\n",
       "</style>\n",
       "<table border=\"1\" class=\"dataframe\">\n",
       "  <thead>\n",
       "    <tr style=\"text-align: right;\">\n",
       "      <th></th>\n",
       "      <th>Brand</th>\n",
       "      <th>Model</th>\n",
       "      <th>Year</th>\n",
       "      <th>Engine_cc</th>\n",
       "      <th>Cyl</th>\n",
       "      <th>Trans</th>\n",
       "      <th>Drivetrain</th>\n",
       "      <th>Class</th>\n",
       "      <th>Fuel_type</th>\n",
       "      <th>Barrels_per_year</th>\n",
       "      <th>City_MPG</th>\n",
       "      <th>Highway_MPG</th>\n",
       "      <th>CO2_grams_per_mile</th>\n",
       "      <th>Fuel_cost_per_year</th>\n",
       "      <th>years_range</th>\n",
       "      <th>year_range</th>\n",
       "      <th>trans_type</th>\n",
       "      <th>brand</th>\n",
       "      <th>revenue</th>\n",
       "      <th>production</th>\n",
       "    </tr>\n",
       "  </thead>\n",
       "  <tbody>\n",
       "    <tr>\n",
       "      <th>0</th>\n",
       "      <td>AM General</td>\n",
       "      <td>DJ Po Vehicle 2WD</td>\n",
       "      <td>1984</td>\n",
       "      <td>2.5</td>\n",
       "      <td>4.0</td>\n",
       "      <td>Automatic 3-spd</td>\n",
       "      <td>2-Wheel Drive</td>\n",
       "      <td>Special Purpose Vehicle 2WD</td>\n",
       "      <td>Regular</td>\n",
       "      <td>19.388824</td>\n",
       "      <td>18</td>\n",
       "      <td>17</td>\n",
       "      <td>522.764706</td>\n",
       "      <td>1950</td>\n",
       "      <td>80s</td>\n",
       "      <td>80s</td>\n",
       "      <td>automatic</td>\n",
       "      <td>AM General</td>\n",
       "      <td>1537</td>\n",
       "      <td>1.002916</td>\n",
       "    </tr>\n",
       "    <tr>\n",
       "      <th>1</th>\n",
       "      <td>AM General</td>\n",
       "      <td>FJ8c Post Office</td>\n",
       "      <td>1984</td>\n",
       "      <td>4.2</td>\n",
       "      <td>6.0</td>\n",
       "      <td>Automatic 3-spd</td>\n",
       "      <td>2-Wheel Drive</td>\n",
       "      <td>Special Purpose Vehicle 2WD</td>\n",
       "      <td>Regular</td>\n",
       "      <td>25.354615</td>\n",
       "      <td>13</td>\n",
       "      <td>13</td>\n",
       "      <td>683.615385</td>\n",
       "      <td>2550</td>\n",
       "      <td>80s</td>\n",
       "      <td>80s</td>\n",
       "      <td>automatic</td>\n",
       "      <td>AM General</td>\n",
       "      <td>1537</td>\n",
       "      <td>1.002916</td>\n",
       "    </tr>\n",
       "    <tr>\n",
       "      <th>2</th>\n",
       "      <td>AM General</td>\n",
       "      <td>Post Office DJ5 2WD</td>\n",
       "      <td>1985</td>\n",
       "      <td>2.5</td>\n",
       "      <td>4.0</td>\n",
       "      <td>Automatic 3-spd</td>\n",
       "      <td>Rear-Wheel Drive</td>\n",
       "      <td>Special Purpose Vehicle 2WD</td>\n",
       "      <td>Regular</td>\n",
       "      <td>20.600625</td>\n",
       "      <td>16</td>\n",
       "      <td>17</td>\n",
       "      <td>555.437500</td>\n",
       "      <td>2100</td>\n",
       "      <td>80s</td>\n",
       "      <td>80s</td>\n",
       "      <td>automatic</td>\n",
       "      <td>AM General</td>\n",
       "      <td>1537</td>\n",
       "      <td>1.002916</td>\n",
       "    </tr>\n",
       "    <tr>\n",
       "      <th>3</th>\n",
       "      <td>AM General</td>\n",
       "      <td>Post Office DJ8 2WD</td>\n",
       "      <td>1985</td>\n",
       "      <td>4.2</td>\n",
       "      <td>6.0</td>\n",
       "      <td>Automatic 3-spd</td>\n",
       "      <td>Rear-Wheel Drive</td>\n",
       "      <td>Special Purpose Vehicle 2WD</td>\n",
       "      <td>Regular</td>\n",
       "      <td>25.354615</td>\n",
       "      <td>13</td>\n",
       "      <td>13</td>\n",
       "      <td>683.615385</td>\n",
       "      <td>2550</td>\n",
       "      <td>80s</td>\n",
       "      <td>80s</td>\n",
       "      <td>automatic</td>\n",
       "      <td>AM General</td>\n",
       "      <td>1537</td>\n",
       "      <td>1.002916</td>\n",
       "    </tr>\n",
       "    <tr>\n",
       "      <th>4</th>\n",
       "      <td>ASC Incorporated</td>\n",
       "      <td>GNX</td>\n",
       "      <td>1987</td>\n",
       "      <td>3.8</td>\n",
       "      <td>6.0</td>\n",
       "      <td>Automatic 4-spd</td>\n",
       "      <td>Rear-Wheel Drive</td>\n",
       "      <td>Midsize Cars</td>\n",
       "      <td>Premium</td>\n",
       "      <td>20.600625</td>\n",
       "      <td>14</td>\n",
       "      <td>21</td>\n",
       "      <td>555.437500</td>\n",
       "      <td>2550</td>\n",
       "      <td>80s</td>\n",
       "      <td>80s</td>\n",
       "      <td>automatic</td>\n",
       "      <td>ASC Incorporated</td>\n",
       "      <td>232</td>\n",
       "      <td>1.628105</td>\n",
       "    </tr>\n",
       "  </tbody>\n",
       "</table>\n",
       "</div>"
      ],
      "text/plain": [
       "              Brand                Model  Year  Engine_cc  Cyl  \\\n",
       "0        AM General    DJ Po Vehicle 2WD  1984        2.5  4.0   \n",
       "1        AM General     FJ8c Post Office  1984        4.2  6.0   \n",
       "2        AM General  Post Office DJ5 2WD  1985        2.5  4.0   \n",
       "3        AM General  Post Office DJ8 2WD  1985        4.2  6.0   \n",
       "4  ASC Incorporated                  GNX  1987        3.8  6.0   \n",
       "\n",
       "             Trans        Drivetrain                        Class Fuel_type  \\\n",
       "0  Automatic 3-spd     2-Wheel Drive  Special Purpose Vehicle 2WD   Regular   \n",
       "1  Automatic 3-spd     2-Wheel Drive  Special Purpose Vehicle 2WD   Regular   \n",
       "2  Automatic 3-spd  Rear-Wheel Drive  Special Purpose Vehicle 2WD   Regular   \n",
       "3  Automatic 3-spd  Rear-Wheel Drive  Special Purpose Vehicle 2WD   Regular   \n",
       "4  Automatic 4-spd  Rear-Wheel Drive                 Midsize Cars   Premium   \n",
       "\n",
       "   Barrels_per_year  City_MPG  Highway_MPG  CO2_grams_per_mile  \\\n",
       "0         19.388824        18           17          522.764706   \n",
       "1         25.354615        13           13          683.615385   \n",
       "2         20.600625        16           17          555.437500   \n",
       "3         25.354615        13           13          683.615385   \n",
       "4         20.600625        14           21          555.437500   \n",
       "\n",
       "   Fuel_cost_per_year years_range year_range trans_type             brand  \\\n",
       "0                1950         80s        80s  automatic        AM General   \n",
       "1                2550         80s        80s  automatic        AM General   \n",
       "2                2100         80s        80s  automatic        AM General   \n",
       "3                2550         80s        80s  automatic        AM General   \n",
       "4                2550         80s        80s  automatic  ASC Incorporated   \n",
       "\n",
       "   revenue  production  \n",
       "0     1537    1.002916  \n",
       "1     1537    1.002916  \n",
       "2     1537    1.002916  \n",
       "3     1537    1.002916  \n",
       "4      232    1.628105  "
      ]
     },
     "execution_count": 77,
     "metadata": {},
     "output_type": "execute_result"
    }
   ],
   "source": [
    "cars_with_brands = cars.merge(right=car_brands, \n",
    "                              how=\"left\", \n",
    "                              left_on=\"Brand\", \n",
    "                              right_on=\"brand\")\n",
    "cars_with_brands.head(5)"
   ]
  },
  {
   "cell_type": "markdown",
   "metadata": {},
   "source": [
    "### Which brands have the most revenue?"
   ]
  },
  {
   "cell_type": "code",
   "execution_count": 78,
   "metadata": {},
   "outputs": [
    {
     "data": {
      "text/html": [
       "<div>\n",
       "<style scoped>\n",
       "    .dataframe tbody tr th:only-of-type {\n",
       "        vertical-align: middle;\n",
       "    }\n",
       "\n",
       "    .dataframe tbody tr th {\n",
       "        vertical-align: top;\n",
       "    }\n",
       "\n",
       "    .dataframe thead th {\n",
       "        text-align: right;\n",
       "    }\n",
       "</style>\n",
       "<table border=\"1\" class=\"dataframe\">\n",
       "  <thead>\n",
       "    <tr style=\"text-align: right;\">\n",
       "      <th></th>\n",
       "      <th>revenue</th>\n",
       "    </tr>\n",
       "    <tr>\n",
       "      <th>brand</th>\n",
       "      <th></th>\n",
       "    </tr>\n",
       "  </thead>\n",
       "  <tbody>\n",
       "    <tr>\n",
       "      <th>Geo</th>\n",
       "      <td>1988</td>\n",
       "    </tr>\n",
       "    <tr>\n",
       "      <th>Volga Associated Automobile</th>\n",
       "      <td>1965</td>\n",
       "    </tr>\n",
       "    <tr>\n",
       "      <th>Goldacre</th>\n",
       "      <td>1958</td>\n",
       "    </tr>\n",
       "    <tr>\n",
       "      <th>Ferrari</th>\n",
       "      <td>1946</td>\n",
       "    </tr>\n",
       "    <tr>\n",
       "      <th>CX Automotive</th>\n",
       "      <td>1935</td>\n",
       "    </tr>\n",
       "    <tr>\n",
       "      <th>...</th>\n",
       "      <td>...</td>\n",
       "    </tr>\n",
       "    <tr>\n",
       "      <th>Lotus</th>\n",
       "      <td>45</td>\n",
       "    </tr>\n",
       "    <tr>\n",
       "      <th>Cadillac</th>\n",
       "      <td>42</td>\n",
       "    </tr>\n",
       "    <tr>\n",
       "      <th>Pontiac</th>\n",
       "      <td>31</td>\n",
       "    </tr>\n",
       "    <tr>\n",
       "      <th>PAS Inc - GMC</th>\n",
       "      <td>22</td>\n",
       "    </tr>\n",
       "    <tr>\n",
       "      <th>Audi</th>\n",
       "      <td>18</td>\n",
       "    </tr>\n",
       "  </tbody>\n",
       "</table>\n",
       "<p>127 rows × 1 columns</p>\n",
       "</div>"
      ],
      "text/plain": [
       "                             revenue\n",
       "brand                               \n",
       "Geo                             1988\n",
       "Volga Associated Automobile     1965\n",
       "Goldacre                        1958\n",
       "Ferrari                         1946\n",
       "CX Automotive                   1935\n",
       "...                              ...\n",
       "Lotus                             45\n",
       "Cadillac                          42\n",
       "Pontiac                           31\n",
       "PAS Inc - GMC                     22\n",
       "Audi                              18\n",
       "\n",
       "[127 rows x 1 columns]"
      ]
     },
     "execution_count": 78,
     "metadata": {},
     "output_type": "execute_result"
    }
   ],
   "source": [
    "(\n",
    "car_brands\n",
    "    .groupby('brand')\n",
    "    .agg({'revenue':'sum'})\n",
    "    .sort_values(by='revenue', ascending=False)\n",
    ")"
   ]
  }
 ],
 "metadata": {
  "kernelspec": {
   "display_name": "Python 3",
   "language": "python",
   "name": "python3"
  },
  "language_info": {
   "codemirror_mode": {
    "name": "ipython",
    "version": 3
   },
   "file_extension": ".py",
   "mimetype": "text/x-python",
   "name": "python",
   "nbconvert_exporter": "python",
   "pygments_lexer": "ipython3",
   "version": "3.8.8"
  },
  "toc": {
   "base_numbering": 1,
   "nav_menu": {},
   "number_sections": true,
   "sideBar": true,
   "skip_h1_title": false,
   "title_cell": "Table of Contents",
   "title_sidebar": "Contents",
   "toc_cell": false,
   "toc_position": {},
   "toc_section_display": true,
   "toc_window_display": false
  },
  "varInspector": {
   "cols": {
    "lenName": 16,
    "lenType": 16,
    "lenVar": 40
   },
   "kernels_config": {
    "python": {
     "delete_cmd_postfix": "",
     "delete_cmd_prefix": "del ",
     "library": "var_list.py",
     "varRefreshCmd": "print(var_dic_list())"
    },
    "r": {
     "delete_cmd_postfix": ") ",
     "delete_cmd_prefix": "rm(",
     "library": "var_list.r",
     "varRefreshCmd": "cat(var_dic_list()) "
    }
   },
   "types_to_exclude": [
    "module",
    "function",
    "builtin_function_or_method",
    "instance",
    "_Feature"
   ],
   "window_display": false
  }
 },
 "nbformat": 4,
 "nbformat_minor": 4
}
